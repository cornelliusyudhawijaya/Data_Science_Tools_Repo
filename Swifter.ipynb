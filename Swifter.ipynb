{
 "cells": [
  {
   "cell_type": "markdown",
   "metadata": {},
   "source": [
    "# This notebook is code to accompany article Speed up your Pandas Processing with Swifter\n",
    "\n",
    "Article: https://towardsdatascience.com/speed-up-your-pandas-processing-with-swifter-6aa314600a13?sk=e97035b67d0b3cd89770fe63b9321d91\n",
    "\n",
    "Dataset: https://www.kaggle.com/unanimad/dataisbeautiful"
   ]
  },
  {
   "cell_type": "code",
   "execution_count": 1,
   "metadata": {
    "ExecuteTime": {
     "end_time": "2020-07-04T06:16:43.505969Z",
     "start_time": "2020-07-04T06:16:42.243026Z"
    },
    "scrolled": true
   },
   "outputs": [
    {
     "name": "stderr",
     "output_type": "stream",
     "text": [
      "C:\\Users\\MSI\\Anaconda3\\lib\\site-packages\\IPython\\core\\interactiveshell.py:3072: DtypeWarning: Columns (5,7) have mixed types.Specify dtype option on import or set low_memory=False.\n",
      "  interactivity=interactivity, compiler=compiler, result=result)\n"
     ]
    }
   ],
   "source": [
    "import pandas as pd\n",
    "import swifter\n",
    "\n",
    "df = pd.read_csv('r_dataisbeautiful_posts.csv')"
   ]
  },
  {
   "cell_type": "code",
   "execution_count": 2,
   "metadata": {
    "ExecuteTime": {
     "end_time": "2020-07-04T06:16:43.510958Z",
     "start_time": "2020-07-04T06:16:43.506966Z"
    }
   },
   "outputs": [],
   "source": [
    "import pandas as pd\n",
    "import swifter"
   ]
  },
  {
   "cell_type": "code",
   "execution_count": 30,
   "metadata": {
    "ExecuteTime": {
     "end_time": "2020-07-04T11:31:32.336805Z",
     "start_time": "2020-07-04T11:31:32.246017Z"
    },
    "scrolled": false
   },
   "outputs": [
    {
     "name": "stdout",
     "output_type": "stream",
     "text": [
      "<class 'pandas.core.frame.DataFrame'>\n",
      "RangeIndex: 183891 entries, 0 to 183890\n",
      "Data columns (total 13 columns):\n",
      " #   Column                 Non-Null Count   Dtype  \n",
      "---  ------                 --------------   -----  \n",
      " 0   id                     183891 non-null  object \n",
      " 1   title                  183890 non-null  object \n",
      " 2   score                  183891 non-null  int64  \n",
      " 3   author                 183891 non-null  object \n",
      " 4   author_flair_text      24574 non-null   object \n",
      " 5   removed_by             11564 non-null   object \n",
      " 6   total_awards_received  44007 non-null   float64\n",
      " 7   awarders               33332 non-null   object \n",
      " 8   created_utc            183891 non-null  int64  \n",
      " 9   full_link              183891 non-null  object \n",
      " 10  num_comments           183891 non-null  int64  \n",
      " 11  over_18                183891 non-null  bool   \n",
      " 12  test                   183891 non-null  int64  \n",
      "dtypes: bool(1), float64(1), int64(4), object(7)\n",
      "memory usage: 17.0+ MB\n"
     ]
    }
   ],
   "source": [
    "df.info()"
   ]
  },
  {
   "cell_type": "code",
   "execution_count": 10,
   "metadata": {
    "ExecuteTime": {
     "end_time": "2020-07-04T09:41:23.450986Z",
     "start_time": "2020-07-04T09:41:18.870676Z"
    }
   },
   "outputs": [
    {
     "name": "stdout",
     "output_type": "stream",
     "text": [
      "Wall time: 4.58 s\n"
     ]
    }
   ],
   "source": [
    "%time df['test'] = df[['title', 'author']].apply(lambda x : str(x['title']*2) if len(x['author']) <= 6 else str(x['title']).split(), axis =1)"
   ]
  },
  {
   "cell_type": "code",
   "execution_count": 11,
   "metadata": {
    "ExecuteTime": {
     "end_time": "2020-07-04T09:41:36.442328Z",
     "start_time": "2020-07-04T09:41:31.570489Z"
    }
   },
   "outputs": [
    {
     "data": {
      "application/vnd.jupyter.widget-view+json": {
       "model_id": "cd34f637d90e411f9d60b8be047b3a85",
       "version_major": 2,
       "version_minor": 0
      },
      "text/plain": [
       "HBox(children=(FloatProgress(value=0.0, description='Pandas Apply', max=183891.0, style=ProgressStyle(descript…"
      ]
     },
     "metadata": {},
     "output_type": "display_data"
    },
    {
     "name": "stdout",
     "output_type": "stream",
     "text": [
      "\n",
      "Wall time: 4.87 s\n"
     ]
    }
   ],
   "source": [
    "%time df['test'] = df[['title', 'author']].swifter.apply(lambda x : str(x['title']*2) if len(x['author']) <= 6 else str(x['title']).split(), axis =1)"
   ]
  },
  {
   "cell_type": "code",
   "execution_count": 49,
   "metadata": {
    "ExecuteTime": {
     "end_time": "2020-07-04T13:10:29.437920Z",
     "start_time": "2020-07-04T13:10:29.389017Z"
    }
   },
   "outputs": [
    {
     "name": "stdout",
     "output_type": "stream",
     "text": [
      "Wall time: 42.9 ms\n"
     ]
    }
   ],
   "source": [
    "%time df['score_2'] = df['score'].apply(lambda x: x/2 -1)"
   ]
  },
  {
   "cell_type": "code",
   "execution_count": 50,
   "metadata": {
    "ExecuteTime": {
     "end_time": "2020-07-04T13:10:37.084340Z",
     "start_time": "2020-07-04T13:10:37.075331Z"
    }
   },
   "outputs": [
    {
     "name": "stdout",
     "output_type": "stream",
     "text": [
      "Wall time: 3.99 ms\n"
     ]
    }
   ],
   "source": [
    "%time df['score_2_swift'] = df['score'].swifter.apply(lambda x: x/2 - 1)"
   ]
  },
  {
   "cell_type": "code",
   "execution_count": 19,
   "metadata": {
    "ExecuteTime": {
     "end_time": "2020-07-04T09:55:02.687277Z",
     "start_time": "2020-07-04T09:54:58.118395Z"
    }
   },
   "outputs": [
    {
     "data": {
      "application/vnd.jupyter.widget-view+json": {
       "model_id": "e92135caf8674bca8a41fe557774beb1",
       "version_major": 2,
       "version_minor": 0
      },
      "text/plain": [
       "HBox(children=(FloatProgress(value=0.0, description='Pandas Apply', max=183891.0, style=ProgressStyle(descript…"
      ]
     },
     "metadata": {},
     "output_type": "display_data"
    },
    {
     "name": "stdout",
     "output_type": "stream",
     "text": [
      "\n"
     ]
    }
   ],
   "source": [
    "df['test'] = df[['score', 'title']].swifter.apply(lambda x: len(str(x['title'])) if x['score'] <2 else len(str(x['title']*2)) , axis =1)"
   ]
  },
  {
   "cell_type": "code",
   "execution_count": 20,
   "metadata": {
    "ExecuteTime": {
     "end_time": "2020-07-04T09:55:13.727317Z",
     "start_time": "2020-07-04T09:55:09.791394Z"
    }
   },
   "outputs": [],
   "source": [
    "df['test'] = df[['score', 'title']].apply(lambda x: len(str(x['title'])) if x['score'] <2 else len(str(x['title']*2)) , axis =1)"
   ]
  },
  {
   "cell_type": "code",
   "execution_count": 22,
   "metadata": {
    "ExecuteTime": {
     "end_time": "2020-07-04T09:56:37.323749Z",
     "start_time": "2020-07-04T09:56:30.064794Z"
    }
   },
   "outputs": [
    {
     "data": {
      "application/vnd.jupyter.widget-view+json": {
       "model_id": "8075aa3651044711bbd8a7cd1ec0c63d",
       "version_major": 2,
       "version_minor": 0
      },
      "text/plain": [
       "HBox(children=(FloatProgress(value=0.0, description='Pandas Apply', max=183891.0, style=ProgressStyle(descript…"
      ]
     },
     "metadata": {},
     "output_type": "display_data"
    },
    {
     "name": "stdout",
     "output_type": "stream",
     "text": [
      "\n"
     ]
    }
   ],
   "source": [
    "df['test'] = df[['score', 'title']].swifter.apply(lambda x: np.where(x['score'] <2, len(str(x['title'])) , len(str(x['title']*2))) , axis =1)"
   ]
  },
  {
   "cell_type": "code",
   "execution_count": 24,
   "metadata": {
    "ExecuteTime": {
     "end_time": "2020-07-04T09:58:25.108640Z",
     "start_time": "2020-07-04T09:58:25.055772Z"
    }
   },
   "outputs": [
    {
     "name": "stdout",
     "output_type": "stream",
     "text": [
      "<class 'pandas.core.frame.DataFrame'>\n",
      "RangeIndex: 183891 entries, 0 to 183890\n",
      "Data columns (total 13 columns):\n",
      " #   Column                 Non-Null Count   Dtype  \n",
      "---  ------                 --------------   -----  \n",
      " 0   id                     183891 non-null  object \n",
      " 1   title                  183890 non-null  object \n",
      " 2   score                  183891 non-null  int64  \n",
      " 3   author                 183891 non-null  object \n",
      " 4   author_flair_text      24574 non-null   object \n",
      " 5   removed_by             11564 non-null   object \n",
      " 6   total_awards_received  44007 non-null   float64\n",
      " 7   awarders               33332 non-null   object \n",
      " 8   created_utc            183891 non-null  int64  \n",
      " 9   full_link              183891 non-null  object \n",
      " 10  num_comments           183891 non-null  int64  \n",
      " 11  over_18                183891 non-null  bool   \n",
      " 12  test                   183891 non-null  int64  \n",
      "dtypes: bool(1), float64(1), int64(4), object(7)\n",
      "memory usage: 17.0+ MB\n"
     ]
    }
   ],
   "source": [
    "df.info()"
   ]
  },
  {
   "cell_type": "code",
   "execution_count": 39,
   "metadata": {
    "ExecuteTime": {
     "end_time": "2020-07-04T13:04:21.777022Z",
     "start_time": "2020-07-04T13:04:21.772036Z"
    }
   },
   "outputs": [],
   "source": [
    "def scoring_comment(x):\n",
    "    if x['num_comments'] == 0:\n",
    "        return x['score'] *2\n",
    "    else:\n",
    "        return x['score']"
   ]
  },
  {
   "cell_type": "code",
   "execution_count": 48,
   "metadata": {
    "ExecuteTime": {
     "end_time": "2020-07-04T13:10:23.573392Z",
     "start_time": "2020-07-04T13:10:19.613638Z"
    }
   },
   "outputs": [
    {
     "name": "stdout",
     "output_type": "stream",
     "text": [
      "Wall time: 3.96 s\n"
     ]
    }
   ],
   "source": [
    "%time df['test'] = df[['score', 'num_comments']].apply(scoring_comment, axis =1)"
   ]
  },
  {
   "cell_type": "code",
   "execution_count": 51,
   "metadata": {
    "ExecuteTime": {
     "end_time": "2020-07-04T13:12:54.301094Z",
     "start_time": "2020-07-04T13:12:47.920432Z"
    }
   },
   "outputs": [
    {
     "data": {
      "application/vnd.jupyter.widget-view+json": {
       "model_id": "b6a5644dbe194914bfe7838ad3b065de",
       "version_major": 2,
       "version_minor": 0
      },
      "text/plain": [
       "HBox(children=(FloatProgress(value=0.0, description='Dask Apply', max=24.0, style=ProgressStyle(description_wi…"
      ]
     },
     "metadata": {},
     "output_type": "display_data"
    },
    {
     "name": "stdout",
     "output_type": "stream",
     "text": [
      "\n",
      "Wall time: 6.38 s\n"
     ]
    }
   ],
   "source": [
    "%time df['test'] = df[['score', 'num_comments']].swifter.apply(scoring_comment, axis =1)"
   ]
  },
  {
   "cell_type": "code",
   "execution_count": 43,
   "metadata": {
    "ExecuteTime": {
     "end_time": "2020-07-04T13:07:17.348483Z",
     "start_time": "2020-07-04T13:07:17.344495Z"
    }
   },
   "outputs": [],
   "source": [
    "def scoring_comment_vectorized(x):\n",
    "    return np.where(x['num_comments'] ==0, x['score']*2, x['score'])"
   ]
  },
  {
   "cell_type": "code",
   "execution_count": 52,
   "metadata": {
    "ExecuteTime": {
     "end_time": "2020-07-04T13:14:11.358590Z",
     "start_time": "2020-07-04T13:14:11.342601Z"
    }
   },
   "outputs": [
    {
     "name": "stdout",
     "output_type": "stream",
     "text": [
      "Wall time: 11 ms\n"
     ]
    }
   ],
   "source": [
    "%time df['test'] = df[['score', 'num_comments']].swifter.apply(scoring_comment_vectorized, axis =1)"
   ]
  },
  {
   "cell_type": "code",
   "execution_count": 53,
   "metadata": {
    "ExecuteTime": {
     "end_time": "2020-07-04T13:14:28.143635Z",
     "start_time": "2020-07-04T13:14:21.888081Z"
    }
   },
   "outputs": [
    {
     "name": "stdout",
     "output_type": "stream",
     "text": [
      "Wall time: 6.25 s\n"
     ]
    }
   ],
   "source": [
    "%time df['test'] = df[['score', 'num_comments']].apply(scoring_comment_vectorized, axis =1)"
   ]
  },
  {
   "cell_type": "code",
   "execution_count": null,
   "metadata": {},
   "outputs": [],
   "source": []
  }
 ],
 "metadata": {
  "hide_input": false,
  "kernelspec": {
   "display_name": "Python 3",
   "language": "python",
   "name": "python3"
  },
  "language_info": {
   "codemirror_mode": {
    "name": "ipython",
    "version": 3
   },
   "file_extension": ".py",
   "mimetype": "text/x-python",
   "name": "python",
   "nbconvert_exporter": "python",
   "pygments_lexer": "ipython3",
   "version": "3.8.8"
  },
  "varInspector": {
   "cols": {
    "lenName": 16,
    "lenType": 16,
    "lenVar": 40
   },
   "kernels_config": {
    "python": {
     "delete_cmd_postfix": "",
     "delete_cmd_prefix": "del ",
     "library": "var_list.py",
     "varRefreshCmd": "print(var_dic_list())"
    },
    "r": {
     "delete_cmd_postfix": ") ",
     "delete_cmd_prefix": "rm(",
     "library": "var_list.r",
     "varRefreshCmd": "cat(var_dic_list()) "
    }
   },
   "types_to_exclude": [
    "module",
    "function",
    "builtin_function_or_method",
    "instance",
    "_Feature"
   ],
   "window_display": false
  }
 },
 "nbformat": 4,
 "nbformat_minor": 4
}
